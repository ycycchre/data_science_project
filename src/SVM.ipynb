{
 "cells": [
  {
   "cell_type": "code",
   "execution_count": 1,
   "metadata": {},
   "outputs": [],
   "source": [
    "# test SVM with different Data\n",
    "import pandas as pd\n",
    "\n",
    "from sklearn import svm\n",
    "from sklearn.model_selection import train_test_split\n",
    "from sklearn.metrics import accuracy_score"
   ]
  },
  {
   "cell_type": "code",
   "execution_count": 2,
   "metadata": {},
   "outputs": [
    {
     "name": "stdout",
     "output_type": "stream",
     "text": [
      "   Humidity  Temperature  Step count  Stress Level\n",
      "0     21.33        90.33         123             1\n",
      "1     21.41        90.41          93             1\n",
      "2     27.12        96.12         196             2\n",
      "3     27.64        96.64         177             2\n",
      "4     10.87        79.87          87             0\n"
     ]
    }
   ],
   "source": [
    "lysis_data=pd.read_csv(\"./Stress-Lysis.csv\")\n",
    "print(lysis_data.head())"
   ]
  },
  {
   "cell_type": "code",
   "execution_count": 3,
   "metadata": {},
   "outputs": [],
   "source": [
    "# print(lysis_data[['Humidity', 'Temperature']])\n",
    "hum_temp_data = lysis_data[['Humidity', 'Temperature']]\n",
    "str_lev_data = lysis_data['Stress Level']"
   ]
  },
  {
   "cell_type": "code",
   "execution_count": 4,
   "metadata": {},
   "outputs": [],
   "source": [
    "train_data , test_data , train_label , test_label = train_test_split(hum_temp_data, str_lev_data, test_size=0.2)\n",
    "train_data , ver_data , train_label , ver_label = train_test_split(train_data, train_label, test_size=0.25)"
   ]
  },
  {
   "cell_type": "code",
   "execution_count": 5,
   "metadata": {},
   "outputs": [
    {
     "name": "stdout",
     "output_type": "stream",
     "text": [
      "Verification Average Accuracy: 1.0 \n",
      "Test Average Accuracy: 1.0\n"
     ]
    }
   ],
   "source": [
    "C = 2 # SVM regularization parameter\n",
    "\n",
    "svc = svm.SVC(kernel='linear', C=C).fit(train_data, train_label)\n",
    "\n",
    "pred_ver = svc.predict(ver_data)\n",
    "average_acc_train = accuracy_score(ver_label, pred_ver)\n",
    "\n",
    "pred_test = svc.predict(test_data)\n",
    "average_acc_test = accuracy_score(test_label, pred_test)\n",
    "\n",
    "print(\"Verification Average Accuracy: {} \\nTest Average Accuracy: {}\".format(average_acc_train, average_acc_test))\n"
   ]
  },
  {
   "cell_type": "code",
   "execution_count": 6,
   "metadata": {},
   "outputs": [
    {
     "name": "stdout",
     "output_type": "stream",
     "text": [
      "Verification Average Accuracy: 1.0 \n",
      "Test Average Accuracy: 1.0\n"
     ]
    }
   ],
   "source": [
    "C = 2 # SVM regularization parameter\n",
    "\n",
    "rbf_svc = svm.SVC(kernel='rbf', gamma=0.7, C=C).fit(train_data, train_label)\n",
    "\n",
    "pred_ver = rbf_svc.predict(ver_data)\n",
    "average_acc_train = accuracy_score(ver_label, pred_ver)\n",
    "\n",
    "pred_test = rbf_svc.predict(test_data)\n",
    "average_acc_test = accuracy_score(test_label, pred_test)\n",
    "\n",
    "print(\"Verification Average Accuracy: {} \\nTest Average Accuracy: {}\".format(average_acc_train, average_acc_test))\n"
   ]
  },
  {
   "cell_type": "code",
   "execution_count": 7,
   "metadata": {},
   "outputs": [
    {
     "name": "stdout",
     "output_type": "stream",
     "text": [
      "Verification Average Accuracy: 1.0 \n",
      "Test Average Accuracy: 1.0\n"
     ]
    }
   ],
   "source": [
    "C = 2 # SVM regularization parameter\n",
    "\n",
    "poly_svc = svm.SVC(kernel='poly', degree=3, C=C).fit(train_data, train_label)\n",
    "\n",
    "pred_ver = poly_svc.predict(ver_data)\n",
    "average_acc_train = accuracy_score(ver_label, pred_ver)\n",
    "\n",
    "pred_test = poly_svc.predict(test_data)\n",
    "average_acc_test = accuracy_score(test_label, pred_test)\n",
    "\n",
    "print(\"Verification Average Accuracy: {} \\nTest Average Accuracy: {}\".format(average_acc_train, average_acc_test))\n"
   ]
  },
  {
   "cell_type": "code",
   "execution_count": 8,
   "metadata": {},
   "outputs": [
    {
     "name": "stdout",
     "output_type": "stream",
     "text": [
      "Verification Average Accuracy: 0.9975 \n",
      "Test Average Accuracy: 0.9950124688279302\n"
     ]
    }
   ],
   "source": [
    "C = 2 # SVM regularization parameter\n",
    "\n",
    "lin_svc = svm.LinearSVC(C=C, dual=False).fit(train_data, train_label)\n",
    "\n",
    "pred_ver = lin_svc.predict(ver_data)\n",
    "average_acc_train = accuracy_score(ver_label, pred_ver)\n",
    "\n",
    "pred_test = lin_svc.predict(test_data)\n",
    "average_acc_test = accuracy_score(test_label, pred_test)\n",
    "\n",
    "print(\"Verification Average Accuracy: {} \\nTest Average Accuracy: {}\".format(average_acc_train, average_acc_test))\n"
   ]
  },
  {
   "cell_type": "code",
   "execution_count": null,
   "metadata": {},
   "outputs": [],
   "source": []
  }
 ],
 "metadata": {
  "kernelspec": {
   "display_name": "Python 3",
   "language": "python",
   "name": "python3"
  },
  "language_info": {
   "codemirror_mode": {
    "name": "ipython",
    "version": 3
   },
   "file_extension": ".py",
   "mimetype": "text/x-python",
   "name": "python",
   "nbconvert_exporter": "python",
   "pygments_lexer": "ipython3",
   "version": "3.9.1"
  }
 },
 "nbformat": 4,
 "nbformat_minor": 4
}
